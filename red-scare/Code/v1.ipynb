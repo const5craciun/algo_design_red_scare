{
 "cells": [
  {
   "cell_type": "markdown",
   "metadata": {},
   "source": [
    "### Abstract"
   ]
  },
  {
   "cell_type": "code",
   "execution_count": 7,
   "metadata": {},
   "outputs": [],
   "source": [
    "### Red Scare\n",
    "\n",
    "### Abstract:\n",
    "\n",
    "#   -Input: A graph G with vertex set V(G) and edge set E(G); the graph can be directed or undirected; \n",
    "#               - no multiple edges between any pair of vertices and unweighted;  \n",
    "#               - every graph comes with two specified vertices s, t ∈ V(G) called start and end vertices and a subset R ⊆ V(G) of red vertices; R can include s and t;\n",
    "#               - an s,t-path is a sequence of DISTINCT vertices v1, ... vl such that v1 = s, vl = t and (vi, vi+1) ∈ E(G) for all i = 1, ..., l − 1 := AKA simple path;\n",
    "\n",
    "#           Every input file is of the form: \tn m r\n",
    "#\t                                            s t\n",
    "#\t                                            <vertices>\n",
    "#\t                                            <edges>        # with n vertices, m edges and r cardinality of R(how many red vertices are there)\n",
    "#                                                              # each vertex name is a string from [_a-z0-9]+\n",
    "#                                                              # the names of vertices in R are followed by *; Ex.: 7 *       \n",
    "#                                                              # edges of the form : u -- v for undirected edge , u --> v for directed arc \n",
    "\n",
    "\n",
    "\n",
    "#    Sub-tasks we want to solve for each problem:\n",
    "\n",
    "#             - None: Return 1 if the length of a shorthest path internally avoiding R(red vertices) exists, -1 otherwise; * if the edge (s, t) exists then length(path(s,t)) = 2;\n",
    "\n",
    "#             - Some: Return True if there is a path from s to t that includes at least one vertex from R\n",
    "\n",
    "#             - Many: Return the maximum number of red vertices on any path from s to t; if no path return -1\n",
    "\n",
    "#             - Few: Return minimum number of red vertices on any path from s to t; if no path, return -1\n",
    "\n",
    "#             - Alternate: Return true if there is a path from s to t that alternates between red and non-red vertices, false otherwise\n",
    "\n",
    "\n",
    "\n",
    "#    Requirements:\n",
    "\n",
    "#            - Hint: For 3, we should be able to handle all instances; 2 roughly 50% of instances;\n",
    "#            - The algorithms should run in polynomial time; if no polynom and > 1h report;\n",
    "#            - Hint to tackle: For 2, not able to write one algo that works for all graphs; for 1 of these 2 should be able to argue for computational hardness with a simple reduction; mistify 2\n",
    "#            - Universality: the algo must run in polynomial time on a well-defined class of graphs:\n",
    "#                            - Well-defined classes:  * all graphs, * directed graphs, * undirected graphs, * bipartite graphs,\n",
    "#                                                     * acyclic graphs, * graphs of bounded treewidth, * planar graphs, * expanders, * combination of these;\n",
    "#            - Allowed:  if(isBipartite(G)) then\n",
    "#                             # run the Strumpf-Chosa algorithm\n",
    "#                        else print('!') # problem is NP-hard for non-bipartite graph\n",
    "#            - Not allowed:  if (filename == 'rusty-I-17\") then print(14) solved by hand\n",
    "\n",
    "\n",
    "#            Libraries:\n",
    "\n",
    "#            - Focus is on choosing between algorithms, not implementing them; not required to write them from scratch;\n",
    "#            - Allowed: implementation can be either reusing code, built-in, books, external;\n",
    "\n",
    "\n",
    "#     Deliverables:\n",
    "\n",
    "#            1. A report; follow the skeleton in doc/report.pdf.\n",
    "#            2. A text file results.txt with all the results, as specified in report.\n",
    "#            3. Scripts, ReadME file that explains how to recreate results.txt by running your programs.\n",
    "\n",
    "\n"
   ]
  },
  {
   "cell_type": "code",
   "execution_count": null,
   "metadata": {},
   "outputs": [],
   "source": [
    "\n",
    "#     Steps:\n",
    "\n",
    "\n",
    "#          Keywords, concepts, tests: - * We have to build the graphs for all the instances/files;\n",
    "#                                     - * Graph tests: the algorithm must run on defined classes of graphs, ex.directed, undirected, bipartite; graph is connected, so maybe specify this;\n",
    "#                                     - The tests should tell us what kind of algorithm should we use for that specific graph, without knowing the type of the graph; blind graph;\n",
    "#                                     - For some problems, the red vertices appear randomly, for others they are fixed; different rules for checking if the vertex is red; colloring the vertex red as we build the graphs vs build and then check for red vertices while searching for paths;\n",
    "#                                     -  Remember that for each subtask we check if there is a path from s to t, s and t can be red;\n",
    "#                                     - * A path from s to t has distinct vertices, the path starts at s ends at t; the number of edges tells us the type of graph each problem might respond to tests; Ex.: If #edges == 3 then problem is Individual graphs,  if #edges == N^2 then problem is Grids;\n",
    "#                                     - Object implementation vs functional implementation; \n",
    "\n",
    "\n",
    "#          Problems:\n",
    "\n",
    "#                     1. Individual Graphs:\n",
    "#                                           * Small graph, 3 vertices and an-all red dodechaderon; good to test parser\n",
    "#                                           * T: Can be directed or undirected, no tree;\n",
    "#                     2. Word Graphs\n",
    "#                                           * Each vertex represents a 5-letter word; \n",
    "#                                           * An edge (u,v) if the corresponding words are anagrams or differ in exactly k positions, k € { 1, 2};\n",
    "#                                           * T: has distinctive name for the vertices;\n",
    "#                     3. Grids\n",
    "#                                           * Consists of N^2 vertices \n",
    "#                                           * Each vertex (x, y) is connected to (x-1, y), (x, y-1), (x-1, y-1) if they exist;\n",
    "#                                           * Every second row is red, except for the top- or bottom-most vertex, alternatingly;\n",
    "#                                           * T: consists of exactly N^2 edges, can be both directed and indirected;\n",
    "#                     4. Walls\n",
    "#                                           * Family consisting of N overlapping 8-cycles called bricks; the bricks are laid in a wall of height 2 with various intervals of overlap;\n",
    "#                                           * Each wall has a single red vertex w, the rightmost vertex of the same vertex as vertex 0;\n",
    "#                                           * T: Contains cycles of length 8 with just one red vertex, can be both directed and undirected; \n",
    "#                     5. Sky\n",
    "#                                           * Tree, in each level move down either one step left either right; \n",
    "#                                           * \"Get from the start to the goal, avoiding the trees\" --> avoid red vertices but maybe also avoid using a tree\n",
    "#                                           * T: Directed, no cycles;\n",
    "#                     6. Increasing numbers\n",
    "#                                           * Each Increasing graph is generated from a sequence idx_1, .. idx_n of unique ints with 0 < val_i < 2n;\n",
    "#                                           * The random process: Pick a subset of size n from {1, ..., 2n} and arrange them randomly;\n",
    "#                                           * s = val_1, t = val_n; Odd numbers are red; Edge (val_i, val_i+1) if idx_i < idx_j and val_i < val_j;\n",
    "\n",
    "#          Algorithms:\n",
    "#                      * Maximum independent set \n",
    "#                      * Spanning tree, BFS, DFS, Prim, Dijsktra\n",
    "#                      * Greedy\n",
    "#                      * Divide and conquer --> Grids \n",
    "#                      * Dynamic programming, backtragking\n",
    "#                      * Network flow\n",
    "#                      * Np-hardness\n",
    "\n",
    "#          Tests:\n",
    "#                      * Number of edges, vertices, ratio vertices/edges --> Individual graphs, Grid, Tree;\n",
    "#                         - as you check graphs and gather info on ratio, collect it and update along for each type of problem, do majority voting for tests; outlier detection to establish range for edges/vertices ratio;\n",
    "#                      * Complete graph  --> Individual graphs\n",
    "#                      * Tree  --> Sky\n",
    "#                      * Dense graph --> Grids\n",
    "#                      * Sparse graph --> Increasing numbers\n",
    "#                      * Based on input format, we color the red vertices - 5 * is a red vertex; source and target are set and can be red so check them; also check if the graph is directed or undirected; also if name is string or int;\n",
    "#\n",
    "\n",
    "#             Majority voting of the tests: - if 3/5 | 2/3 tests say that the graph is a tree, then we assume that the graph is a tree; \n",
    "#                      - connected graph --> all problems\n",
    "#                      - directed vs undirected --> all problems - if directed, then sky and incresing numbers but no grid nor individual graphs\n",
    "#                      - number of edges --> all problems  - if #edges = 3 -> Individual graphs, if #edges = N^2 -> Grids\n",
    "#                      - check if there are 8 non-overlapping cycles --> Walls\n"
   ]
  },
  {
   "cell_type": "markdown",
   "metadata": {},
   "source": [
    "### Read the files"
   ]
  },
  {
   "cell_type": "code",
   "execution_count": 16,
   "metadata": {},
   "outputs": [
    {
     "name": "stderr",
     "output_type": "stream",
     "text": [
      "100%|██████████| 155/155 [00:00<00:00, 269.42it/s]"
     ]
    },
    {
     "name": "stdout",
     "output_type": "stream",
     "text": [
      "154\n"
     ]
    },
    {
     "name": "stderr",
     "output_type": "stream",
     "text": [
      "\n"
     ]
    }
   ],
   "source": [
    "### taking the input, check for graphs of size 3\n",
    "\n",
    "import warnings\n",
    "from tqdm import tqdm\n",
    "import os\n",
    "\n",
    "warnings.filterwarnings('ignore')\n",
    "os.environ['TF_CPP_MIN_LOG_LEVEL'] = '3'\n",
    "\n",
    "\n",
    "PATH = \"../data/\"\n",
    "\n",
    "files_list = os.listdir(PATH)\n",
    "\n",
    "###  count number of graphs in the folder\n",
    "count_graphs = 0\n",
    "files_graph_size3 = []\n",
    "\n",
    "for file in tqdm(files_list):\n",
    "    if file.endswith('txt'):\n",
    "        full_path = os.path.join(PATH + file)\n",
    "        if os.path.isfile(full_path):\n",
    "            count_graphs += 1\n",
    "\n",
    "            with open (full_path, 'r') as f:\n",
    "\n",
    "                vertices, edges = [], []\n",
    "                is_directed, is_undirected = None, None\n",
    "\n",
    "                n, m, r = map(int, f.readline().strip().split())\n",
    "\n",
    "                s, t = map(str, f.readline().strip().split())\n",
    "\n",
    "                for i in range(n):\n",
    "                    vertex = f.readline().strip()\n",
    "                    vertices.append(vertex)\n",
    "                \n",
    "                for j in range(m):\n",
    "                    edge = f.readline().strip()\n",
    "                    edges.append(edge)\n",
    "\n",
    "\n",
    "\n",
    "\n",
    "\n",
    "\n",
    "\n",
    "                if n == 3:\n",
    "                    files_graph_size3.append(file)\n",
    "                \n",
    "\n",
    "\n",
    "\n",
    "print(count_graphs)\n",
    "\n"
   ]
  },
  {
   "cell_type": "markdown",
   "metadata": {},
   "source": [
    "### Individual Graphs"
   ]
  },
  {
   "cell_type": "markdown",
   "metadata": {},
   "source": [
    "### WORD GRAPHS"
   ]
  },
  {
   "cell_type": "code",
   "execution_count": null,
   "metadata": {},
   "outputs": [],
   "source": []
  },
  {
   "cell_type": "code",
   "execution_count": null,
   "metadata": {},
   "outputs": [],
   "source": []
  }
 ],
 "metadata": {
  "kernelspec": {
   "display_name": "CBC",
   "language": "python",
   "name": "python3"
  },
  "language_info": {
   "codemirror_mode": {
    "name": "ipython",
    "version": 3
   },
   "file_extension": ".py",
   "mimetype": "text/x-python",
   "name": "python",
   "nbconvert_exporter": "python",
   "pygments_lexer": "ipython3",
   "version": "3.8.15"
  }
 },
 "nbformat": 4,
 "nbformat_minor": 2
}
